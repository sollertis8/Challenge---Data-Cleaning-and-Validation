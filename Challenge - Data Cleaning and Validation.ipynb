{
 "cells": [
  {
   "cell_type": "code",
   "execution_count": 1,
   "metadata": {
    "collapsed": false
   },
   "outputs": [
    {
     "name": "stdout",
     "output_type": "stream",
     "text": [
      "Journal title\n",
      "PLoS One                                           92\n",
      "PLoS ONE                                           62\n",
      "Journal of Biological Chemistry                    48\n",
      "Nucleic Acids Research                             21\n",
      "Proceedings of the National Academy of Sciences    19\n",
      "Name: Article title, dtype: int64\n"
     ]
    }
   ],
   "source": [
    "import re\n",
    "import pandas as pd\n",
    "\n",
    "\n",
    "df_well = pd.read_csv('WELLCOME_APCspend2013_forThinkful.csv', encoding='iso-8859-1')\n",
    "\n",
    "journals = df_well.groupby(['Journal title'])['Article title'].count()\n",
    "journals.sort_values(axis=0, ascending=False, inplace=True, kind='quicksort')\n",
    "print((journals)[0:5])"
   ]
  },
  {
   "cell_type": "code",
   "execution_count": 2,
   "metadata": {
    "collapsed": false
   },
   "outputs": [
    {
     "name": "stdout",
     "output_type": "stream",
     "text": [
      "                                0\n",
      "Median                1884.010000\n",
      "Mean                 24067.339972\n",
      "Standard Deviation  146860.665559\n"
     ]
    }
   ],
   "source": [
    "cost = df_well['COST (£) charged to Wellcome (inc VAT when charged)']\n",
    "\n",
    "cost = cost.map(lambda x: x.lstrip('£').rstrip('$'))\n",
    "\n",
    "mean_cost = cost.astype(float).mean()\n",
    "median_cost = cost.astype(float).median()\n",
    "std_cost = cost.astype(float).std()\n",
    "\n",
    "costs = {\n",
    "    'Mean':mean_cost,\n",
    "    'Median':median_cost,\n",
    "    'Standard Deviation':std_cost\n",
    "}\n",
    "\n",
    "df_costs = pd.DataFrame()\n",
    "df_costs = df_costs.from_dict(costs, orient='index')\n",
    "print(df_costs)"
   ]
  },
  {
   "cell_type": "code",
   "execution_count": 3,
   "metadata": {
    "collapsed": false
   },
   "outputs": [
    {
     "name": "stdout",
     "output_type": "stream",
     "text": [
      "Journal Title\n",
      "ACS Chemical Biology                                                                               1294.591294.781267.762286.73947.07\n",
      "ACS Chemical Neuroscience                                                                                                     1186.80\n",
      "ACS NANO                                                                                                                       642.89\n",
      "ACS Nano                                                                                                                       693.39\n",
      "ACTA F                                                                                                                         754.90\n",
      "AGE                                                                                                                           2002.00\n",
      "AIDS                                                                                                            1968.631834.772374.52\n",
      "AIDS Behav                                                                                                                    1834.77\n",
      "AIDS Care                                                                                                              2145.602232.74\n",
      "AIDS Journal                                                                                                                  2015.72\n",
      "AIDS Research and Therapy                                                                                                     1240.00\n",
      "AIDS UK                                                                                                                1836.921836.92\n",
      "ASN Neuro                                                                                                                     1453.42\n",
      "Academy of Nutrition and Dietetics                                                                                            2379.54\n",
      "Acta Crystallographica Section D,  Biological Crystallography                                                                  771.42\n",
      "Acta Crystallographica Section D: Biological Crystallography                                                                   773.74\n",
      "Acta Crystallographica Section F: Structural Biology and Crystallization Communications                                  785.60807.67\n",
      "Acta Crystallographica, Section D                                                                                              757.18\n",
      "Acta Crystallography D                                                                                                         774.19\n",
      "Acta D                                                                                                                         750.16\n",
      "Acta Dermato Venereologica                                                                                                     653.96\n",
      "Acta Diabetologica                                                                                                            2336.28\n",
      "Acta Neuropathol                                                                                                              1901.04\n",
      "Acta Neuropathologica                                                                                           1884.012250.972348.21\n",
      "Acta Opthalmologica                                                                                                           2270.16\n",
      "Acta Physiol                                                                                                                  1991.50\n",
      "Addiction                                                                                                              1919.512352.94\n",
      "Advances in Experimental Medicine and Biology                                                            1928.451928.461928.461928.46\n",
      "Age                                                                                                                           2338.28\n",
      "Age and Ageing                                                                                                                2040.00\n",
      "                                                                                                              ...                    \n",
      "Translational Psychiatry                                                                                               2880.002880.00\n",
      "Trends in Cognitive Science                                                                                                   2340.63\n",
      "Trends in Genetics                                                                                                     2368.112373.76\n",
      "Trends in Microbiology                                                                                                        2291.33\n",
      "Trends in Molecular Medicine                                                                                                  2248.33\n",
      "Trends in Neuroscience                                                                                                        2402.81\n",
      "Trends in Neurosciences                                                                                              2426.96999999.00\n",
      "Trends in Parasitology                                                                                 2004.742306.782461.44999999.00\n",
      "Trials                                                                                                 1130.401156.501350.00999999.00\n",
      "Trials                                                                                                                        1165.00\n",
      "Trop Med Int Health                                                                                                           1834.77\n",
      "Tropical Animal Health & Production                                                                                           2054.78\n",
      "Tropical Medicine and International Health                                                 1530.771836.921870.321949.321974.721896.93\n",
      "Tuberculosis                                                                                                           1999.942322.57\n",
      "Urban History                                                                                                                 2034.00\n",
      "Urolithiasis                                                                                                                  1112.40\n",
      "Vaccine                                                                                           1433.341448.381477.732328.841428.68\n",
      "Vascular Pharmacology                                                                                                         2352.53\n",
      "Veterinary Microbiology                                                                                                       2451.49\n",
      "Veterinary Parasitology                                                                                              2488.17999999.00\n",
      "Veterinary Record                                                                                                             2040.00\n",
      "Veterinary Research                                                                                                              9.93\n",
      "Virology                                                                                                               1435.052421.96\n",
      "Virology Journal                                                                                                              1242.00\n",
      "Virus Research                                                                                                                1947.09\n",
      "Vision Research                                                                                                      1456.18999999.00\n",
      "Visual Neuroscience                                                                                                           2034.00\n",
      "Zoonoses and Public Health                                                                                                    2272.15\n",
      "genesis: Journal of Genetics                                                                                                  2376.40\n",
      "mBio                                                                                                                          1355.13\n",
      "Name: Cost, dtype: object\n"
     ]
    }
   ],
   "source": [
    "journal_title = df_well['Journal title']\n",
    "clean = {\n",
    "    'Journal Title': journal_title,\n",
    "    'Cost': cost\n",
    "}\n",
    "df_clean = pd.DataFrame()\n",
    "df_clean = df_clean.from_dict(clean, orient='columns')\n",
    "\n",
    "costs_by_sub = df_clean.groupby(['Journal Title'])['Cost'].sum()\n",
    "\n",
    "print(costs_by_sub)"
   ]
  }
 ],
 "metadata": {
  "anaconda-cloud": {},
  "kernelspec": {
   "display_name": "Python [conda root]",
   "language": "python",
   "name": "conda-root-py"
  },
  "language_info": {
   "codemirror_mode": {
    "name": "ipython",
    "version": 3
   },
   "file_extension": ".py",
   "mimetype": "text/x-python",
   "name": "python",
   "nbconvert_exporter": "python",
   "pygments_lexer": "ipython3",
   "version": "3.5.2"
  }
 },
 "nbformat": 4,
 "nbformat_minor": 1
}
